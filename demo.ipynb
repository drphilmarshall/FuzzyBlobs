{
 "cells": [
  {
   "cell_type": "markdown",
   "metadata": {},
   "source": [
    "# Initial exploration of LSST-reprocessed Stripe82 data (Summer 2013)\n",
    "\n",
    "These images are not available over the web, but there's a test one on Nidever's website:"
   ]
  },
  {
   "cell_type": "code",
   "execution_count": 3,
   "metadata": {
    "collapsed": true
   },
   "outputs": [],
   "source": [
    "from __future__ import print_function\n",
    "import astropy.io.fits as pyfits\n",
    "import numpy as np\n",
    "import os\n",
    "import urllib\n",
    "import astropy.visualization as viz\n",
    "import matplotlib.pyplot as plt"
   ]
  },
  {
   "cell_type": "code",
   "execution_count": 7,
   "metadata": {
    "collapsed": false
   },
   "outputs": [
    {
     "name": "stdout",
     "output_type": "stream",
     "text": [
      " 26M\tcoadd-g-0-400,0.fits.gz\r\n"
     ]
    }
   ],
   "source": [
    "remotedir = 'https://lavinia.as.arizona.edu/~dnidever/FuzzyBlobs/'\n",
    "FITSfile = 'coadd-g-0-400,0.fits.gz'\n",
    "\n",
    "url = os.path.join(remotedir, FITSfile)\n",
    "if not os.path.isfile(FITSfile):\n",
    "    urllib.urlretrieve(url, FITSfile)\n",
    "\n",
    "!du -h $FITSfile\n",
    "    \n",
    "# Replaces !wget https://lavinia.as.arizona.edu/~dnidever/FuzzyBlobs/coadd-g-0-400,0.fits.gz"
   ]
  },
  {
   "cell_type": "code",
   "execution_count": null,
   "metadata": {
    "collapsed": true
   },
   "outputs": [],
   "source": []
  }
 ],
 "metadata": {
  "kernelspec": {
   "display_name": "Python 2",
   "language": "python",
   "name": "python2"
  },
  "language_info": {
   "codemirror_mode": {
    "name": "ipython",
    "version": 2
   },
   "file_extension": ".py",
   "mimetype": "text/x-python",
   "name": "python",
   "nbconvert_exporter": "python",
   "pygments_lexer": "ipython2",
   "version": "2.7.9"
  }
 },
 "nbformat": 4,
 "nbformat_minor": 0
}
